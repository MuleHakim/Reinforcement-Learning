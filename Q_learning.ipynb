{
  "nbformat": 4,
  "nbformat_minor": 0,
  "metadata": {
    "colab": {
      "provenance": [],
      "authorship_tag": "ABX9TyNCxdCyZk2KfB/ZMUjt4sxT",
      "include_colab_link": true
    },
    "kernelspec": {
      "name": "python3",
      "display_name": "Python 3"
    },
    "language_info": {
      "name": "python"
    }
  },
  "cells": [
    {
      "cell_type": "markdown",
      "metadata": {
        "id": "view-in-github",
        "colab_type": "text"
      },
      "source": [
        "<a href=\"https://colab.research.google.com/github/MuleHakim/Reinforcement-Learning/blob/main/Q_learning.ipynb\" target=\"_parent\"><img src=\"https://colab.research.google.com/assets/colab-badge.svg\" alt=\"Open In Colab\"/></a>"
      ]
    },
    {
      "cell_type": "markdown",
      "source": [
        "# 3. Q-Learning\n"
      ],
      "metadata": {
        "id": "OxW6mHIJSk_Y"
      }
    },
    {
      "cell_type": "markdown",
      "source": [
        "### Grid World (FrozenLake Environment)\n"
      ],
      "metadata": {
        "id": "vpgb8tZHSqR9"
      }
    },
    {
      "cell_type": "code",
      "source": [
        "!pip install gymnasium"
      ],
      "metadata": {
        "colab": {
          "base_uri": "https://localhost:8080/"
        },
        "id": "4wnmVrsBSwbT",
        "outputId": "d6d3b116-1dd3-40ce-dcbb-e3b21f2d051d"
      },
      "execution_count": 1,
      "outputs": [
        {
          "output_type": "stream",
          "name": "stdout",
          "text": [
            "Collecting gymnasium\n",
            "  Downloading gymnasium-0.29.1-py3-none-any.whl (953 kB)\n",
            "\u001b[2K     \u001b[90m━━━━━━━━━━━━━━━━━━━━━━━━━━━━━━━━━━━━━━━━\u001b[0m \u001b[32m953.9/953.9 kB\u001b[0m \u001b[31m5.1 MB/s\u001b[0m eta \u001b[36m0:00:00\u001b[0m\n",
            "\u001b[?25hRequirement already satisfied: numpy>=1.21.0 in /usr/local/lib/python3.10/dist-packages (from gymnasium) (1.25.2)\n",
            "Requirement already satisfied: cloudpickle>=1.2.0 in /usr/local/lib/python3.10/dist-packages (from gymnasium) (2.2.1)\n",
            "Requirement already satisfied: typing-extensions>=4.3.0 in /usr/local/lib/python3.10/dist-packages (from gymnasium) (4.11.0)\n",
            "Collecting farama-notifications>=0.0.1 (from gymnasium)\n",
            "  Downloading Farama_Notifications-0.0.4-py3-none-any.whl (2.5 kB)\n",
            "Installing collected packages: farama-notifications, gymnasium\n",
            "Successfully installed farama-notifications-0.0.4 gymnasium-0.29.1\n"
          ]
        }
      ]
    },
    {
      "cell_type": "code",
      "source": [
        "import gymnasium as gym\n",
        "import numpy as np\n",
        "import random"
      ],
      "metadata": {
        "id": "XsGIHjsVSxAo"
      },
      "execution_count": 2,
      "outputs": []
    },
    {
      "cell_type": "code",
      "source": [
        "# Initialize the FrozenLake environment\n",
        "env = gym.make('FrozenLake-v1', is_slippery=False)"
      ],
      "metadata": {
        "id": "dF7-UwL1Sy57"
      },
      "execution_count": 3,
      "outputs": []
    },
    {
      "cell_type": "code",
      "source": [
        "# Initialize the Q-table with zeros\n",
        "q_table = np.zeros((env.observation_space.n, env.action_space.n))\n",
        "alpha = 0.1  # Learning rate\n",
        "gamma = 0.99  # Discount factor\n",
        "epsilon = 1.0  # Exploration rate\n",
        "max_epsilon = 1.0\n",
        "min_epsilon = 0.01\n",
        "decay_rate = 0.001\n",
        "num_episodes = 10000\n",
        "max_steps = 100"
      ],
      "metadata": {
        "id": "JeXzStQAS2lL"
      },
      "execution_count": 4,
      "outputs": []
    },
    {
      "cell_type": "code",
      "source": [
        "# Training the agent\n",
        "for episode in range(num_episodes):\n",
        "    state = env.reset()[0]  # Ensure correct state reset\n",
        "    done = False\n",
        "    for step in range(max_steps):\n",
        "        # Exploration-exploitation trade-off\n",
        "        if random.uniform(0, 1) < epsilon:\n",
        "            action = env.action_space.sample()\n",
        "        else:\n",
        "            action = np.argmax(q_table[state, :])\n",
        "\n",
        "        # Take the action and observe the outcome\n",
        "        new_state, reward, done, _, _ = env.step(action)\n",
        "\n",
        "        # Handle the sparse reward structure\n",
        "        if done and reward == 0:\n",
        "            reward = -1  # Penalize falling into a hole or reaching max_steps without success\n",
        "\n",
        "        # Update the Q-value\n",
        "        q_table[state, action] = q_table[state, action] + alpha * (\n",
        "                    reward + gamma * np.max(q_table[new_state, :]) - q_table[state, action])\n",
        "\n",
        "        state = new_state\n",
        "\n",
        "        if done:\n",
        "            break\n",
        "\n",
        "    # Decay the exploration rate\n",
        "    epsilon = min_epsilon + (max_epsilon - min_epsilon) * np.exp(-decay_rate * episode)"
      ],
      "metadata": {
        "id": "fiyPrcdsS4JM"
      },
      "execution_count": 5,
      "outputs": []
    },
    {
      "cell_type": "code",
      "source": [
        "print(\"Q-Table:\", q_table)"
      ],
      "metadata": {
        "colab": {
          "base_uri": "https://localhost:8080/"
        },
        "id": "kCpplEkvS7AI",
        "outputId": "7ad06f80-88df-4db9-b1c3-204ef32ebcb6"
      },
      "execution_count": 6,
      "outputs": [
        {
          "output_type": "stream",
          "name": "stdout",
          "text": [
            "Q-Table: [[ 0.94148015  0.95099005  0.93206534  0.94148015]\n",
            " [ 0.94148015 -0.99995002  0.71378428  0.88704532]\n",
            " [ 0.35949622  0.92401454  0.05190564  0.2621459 ]\n",
            " [ 0.18233602 -0.83322818  0.00364195  0.01244775]\n",
            " [ 0.95099005  0.96059601 -1.          0.94148015]\n",
            " [ 0.          0.          0.          0.        ]\n",
            " [-0.96184796  0.9800992  -0.95289871  0.58309734]\n",
            " [ 0.          0.          0.          0.        ]\n",
            " [ 0.96059601 -1.          0.970299    0.95099005]\n",
            " [ 0.960596    0.98009999  0.9801     -1.        ]\n",
            " [ 0.97029885  0.99       -1.          0.97028972]\n",
            " [ 0.          0.          0.          0.        ]\n",
            " [ 0.          0.          0.          0.        ]\n",
            " [-0.94766524  0.9616406   0.99        0.94511384]\n",
            " [ 0.98009991  0.98999982  1.          0.98009997]\n",
            " [ 0.          0.          0.          0.        ]]\n"
          ]
        }
      ]
    },
    {
      "cell_type": "code",
      "source": [
        "# Extracting the optimal policy from the Q-table\n",
        "optimal_policy = np.argmax(q_table, axis=1)\n",
        "actions = ['Left', 'Down', 'Right', 'Up']\n",
        "optimal_policy_named = [actions[action] for action in optimal_policy]\n",
        "\n",
        "for state in range(env.observation_space.n):\n",
        "    print(f\"State {state}: {optimal_policy_named[state]}\")"
      ],
      "metadata": {
        "colab": {
          "base_uri": "https://localhost:8080/"
        },
        "id": "5fj2VNBCS-cB",
        "outputId": "ecccfe91-9ddc-40bd-93a6-38181f5fb26c"
      },
      "execution_count": 7,
      "outputs": [
        {
          "output_type": "stream",
          "name": "stdout",
          "text": [
            "State 0: Down\n",
            "State 1: Left\n",
            "State 2: Down\n",
            "State 3: Left\n",
            "State 4: Down\n",
            "State 5: Left\n",
            "State 6: Down\n",
            "State 7: Left\n",
            "State 8: Right\n",
            "State 9: Right\n",
            "State 10: Down\n",
            "State 11: Left\n",
            "State 12: Left\n",
            "State 13: Right\n",
            "State 14: Right\n",
            "State 15: Left\n"
          ]
        }
      ]
    },
    {
      "cell_type": "code",
      "execution_count": 7,
      "metadata": {
        "id": "wKbRndPSSgUH"
      },
      "outputs": [],
      "source": []
    },
    {
      "cell_type": "markdown",
      "source": [
        "### Single-State Multi-Armed Bandit\n"
      ],
      "metadata": {
        "id": "B-qizVkJS_xU"
      }
    },
    {
      "cell_type": "code",
      "source": [
        "k = 10  # Number of arms\n",
        "q_table = np.zeros(k)\n",
        "alpha = 0.1  # Learning rate\n",
        "gamma = 0.99  # Discount factor\n",
        "epsilon = 1.0  # Exploration rate\n",
        "max_epsilon = 1.0\n",
        "min_epsilon = 0.01\n",
        "decay_rate = 0.01\n",
        "num_steps = 1000"
      ],
      "metadata": {
        "id": "BdKlNpfBTBdk"
      },
      "execution_count": 8,
      "outputs": []
    },
    {
      "cell_type": "code",
      "source": [
        "# Simulate the Q-learning process\n",
        "for step in range(num_steps):\n",
        "    if random.uniform(0, 1) < epsilon:\n",
        "        action = random.randint(0, k-1)\n",
        "    else:\n",
        "        action = np.argmax(q_table)\n",
        "\n",
        "    reward = np.random.normal(action, 1.0)  # Assume normal distribution with unit variance\n",
        "\n",
        "    # Update the Q-value\n",
        "    q_table[action] = q_table[action] + alpha * (reward + gamma * np.max(q_table) - q_table[action])\n",
        "\n",
        "    # Decay the exploration rate\n",
        "    epsilon = min_epsilon + (max_epsilon - min_epsilon) * np.exp(-decay_rate * step)\n"
      ],
      "metadata": {
        "id": "f0qXLo8QTVhx"
      },
      "execution_count": 9,
      "outputs": []
    },
    {
      "cell_type": "code",
      "source": [
        "print(\"Q-Table for Bandit:\", q_table)"
      ],
      "metadata": {
        "colab": {
          "base_uri": "https://localhost:8080/"
        },
        "id": "bF5akE3uTW1A",
        "outputId": "e615e534-cf84-4824-9a50-090890e169a0"
      },
      "execution_count": 10,
      "outputs": [
        {
          "output_type": "stream",
          "name": "stdout",
          "text": [
            "Q-Table for Bandit: [113.17730386  92.32205897  70.63366647  74.7474042   29.24821495\n",
            "  27.54689897  13.49417317   9.72042205 474.91141384   9.46294214]\n"
          ]
        }
      ]
    },
    {
      "cell_type": "code",
      "source": [
        "# Identify the best action\n",
        "best_action = np.argmax(q_table)\n",
        "print(\"Best Action:\", best_action, \"with Q-Value:\", q_table[best_action])\n"
      ],
      "metadata": {
        "colab": {
          "base_uri": "https://localhost:8080/"
        },
        "id": "cTyS1QhrTXlK",
        "outputId": "868f42af-86ef-4f46-8e12-78f2c94abd7f"
      },
      "execution_count": 11,
      "outputs": [
        {
          "output_type": "stream",
          "name": "stdout",
          "text": [
            "Best Action: 8 with Q-Value: 474.91141383512905\n"
          ]
        }
      ]
    },
    {
      "cell_type": "code",
      "source": [
        "# Print all actions and their Q-values\n",
        "for action in range(k):\n",
        "    print(f\"Action {action}: Q-Value = {q_table[action]}\")"
      ],
      "metadata": {
        "colab": {
          "base_uri": "https://localhost:8080/"
        },
        "id": "gx5vMl_0UqlI",
        "outputId": "1bc22aa3-3969-44f6-f82a-0cac2e71fd8c"
      },
      "execution_count": 12,
      "outputs": [
        {
          "output_type": "stream",
          "name": "stdout",
          "text": [
            "Action 0: Q-Value = 113.17730385990268\n",
            "Action 1: Q-Value = 92.32205896740714\n",
            "Action 2: Q-Value = 70.63366647128467\n",
            "Action 3: Q-Value = 74.74740419900677\n",
            "Action 4: Q-Value = 29.24821495147941\n",
            "Action 5: Q-Value = 27.546898967946362\n",
            "Action 6: Q-Value = 13.494173171899911\n",
            "Action 7: Q-Value = 9.720422047512386\n",
            "Action 8: Q-Value = 474.91141383512905\n",
            "Action 9: Q-Value = 9.462942139934263\n"
          ]
        }
      ]
    },
    {
      "cell_type": "code",
      "source": [],
      "metadata": {
        "id": "0zUh3P9_UuIh"
      },
      "execution_count": 12,
      "outputs": []
    }
  ]
}