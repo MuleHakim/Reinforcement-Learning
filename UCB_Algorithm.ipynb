{
  "nbformat": 4,
  "nbformat_minor": 0,
  "metadata": {
    "colab": {
      "provenance": [],
      "authorship_tag": "ABX9TyPQTgehR4UqnuLj4L7D1C3g",
      "include_colab_link": true
    },
    "kernelspec": {
      "name": "python3",
      "display_name": "Python 3"
    },
    "language_info": {
      "name": "python"
    }
  },
  "cells": [
    {
      "cell_type": "markdown",
      "metadata": {
        "id": "view-in-github",
        "colab_type": "text"
      },
      "source": [
        "<a href=\"https://colab.research.google.com/github/MuleHakim/Reinforcement-Learning/blob/main/UCB_Algorithm.ipynb\" target=\"_parent\"><img src=\"https://colab.research.google.com/assets/colab-badge.svg\" alt=\"Open In Colab\"/></a>"
      ]
    },
    {
      "cell_type": "markdown",
      "source": [
        "# 5. UCB Algorithm"
      ],
      "metadata": {
        "id": "IOLFUnCacfDi"
      }
    },
    {
      "cell_type": "markdown",
      "source": [
        "### Grid World (FrozenLake Environment)"
      ],
      "metadata": {
        "id": "QP8LPywQcgyJ"
      }
    },
    {
      "cell_type": "code",
      "execution_count": 1,
      "metadata": {
        "colab": {
          "base_uri": "https://localhost:8080/"
        },
        "id": "tb6ErFsicaM-",
        "outputId": "a7045de7-f7ff-4b01-aeac-ca3f5ab72bcb"
      },
      "outputs": [
        {
          "output_type": "stream",
          "name": "stdout",
          "text": [
            "Collecting gymnasium\n",
            "  Downloading gymnasium-0.29.1-py3-none-any.whl (953 kB)\n",
            "\u001b[2K     \u001b[90m━━━━━━━━━━━━━━━━━━━━━━━━━━━━━━━━━━━━━━━━\u001b[0m \u001b[32m953.9/953.9 kB\u001b[0m \u001b[31m9.3 MB/s\u001b[0m eta \u001b[36m0:00:00\u001b[0m\n",
            "\u001b[?25hRequirement already satisfied: numpy>=1.21.0 in /usr/local/lib/python3.10/dist-packages (from gymnasium) (1.25.2)\n",
            "Requirement already satisfied: cloudpickle>=1.2.0 in /usr/local/lib/python3.10/dist-packages (from gymnasium) (2.2.1)\n",
            "Requirement already satisfied: typing-extensions>=4.3.0 in /usr/local/lib/python3.10/dist-packages (from gymnasium) (4.11.0)\n",
            "Collecting farama-notifications>=0.0.1 (from gymnasium)\n",
            "  Downloading Farama_Notifications-0.0.4-py3-none-any.whl (2.5 kB)\n",
            "Installing collected packages: farama-notifications, gymnasium\n",
            "Successfully installed farama-notifications-0.0.4 gymnasium-0.29.1\n"
          ]
        }
      ],
      "source": [
        "!pip install gymnasium"
      ]
    },
    {
      "cell_type": "code",
      "source": [
        "import gymnasium as gym\n",
        "import numpy as np"
      ],
      "metadata": {
        "id": "se3J-wi0cunJ"
      },
      "execution_count": 2,
      "outputs": []
    },
    {
      "cell_type": "code",
      "source": [
        "# Initialize the FrozenLake environment\n",
        "env = gym.make('FrozenLake-v1', is_slippery=False)"
      ],
      "metadata": {
        "id": "QXW-lJdKcyys"
      },
      "execution_count": 3,
      "outputs": []
    },
    {
      "cell_type": "code",
      "source": [
        "q_table = np.zeros((env.observation_space.n, env.action_space.n))\n",
        "action_counts = np.zeros((env.observation_space.n, env.action_space.n))\n",
        "c = 2  # Confidence level\n",
        "num_episodes = 10000\n",
        "max_steps = 100\n",
        "gamma = 0.99  # Discount factor\n"
      ],
      "metadata": {
        "id": "gTU2AnE0c08c"
      },
      "execution_count": 4,
      "outputs": []
    },
    {
      "cell_type": "code",
      "source": [
        "for episode in range(num_episodes):\n",
        "    state = env.reset()[0]\n",
        "    done = False\n",
        "    for step in range(max_steps):\n",
        "        total_count = np.sum(action_counts[state, :]) + 1\n",
        "        ucb_values = q_table[state, :] + c * np.sqrt(np.log(total_count) / (action_counts[state, :] + 1e-5))\n",
        "        action = np.argmax(ucb_values)\n",
        "\n",
        "        new_state, reward, done, _, _ = env.step(action)\n",
        "\n",
        "        action_counts[state, action] += 1\n",
        "        q_table[state, action] += (1 / action_counts[state, action]) * (\n",
        "                    reward + gamma * np.max(q_table[new_state, :]) - q_table[state, action])\n",
        "\n",
        "        state = new_state\n",
        "\n",
        "        if done:\n",
        "            break"
      ],
      "metadata": {
        "id": "hL53bhvEc2cj"
      },
      "execution_count": 5,
      "outputs": []
    },
    {
      "cell_type": "code",
      "source": [
        "print(\"Q-Table using UCB:\", q_table)"
      ],
      "metadata": {
        "colab": {
          "base_uri": "https://localhost:8080/"
        },
        "id": "oqdZlVJCc4SM",
        "outputId": "c03d8958-1ef6-4fb6-c975-6bdaecc99ff3"
      },
      "execution_count": 6,
      "outputs": [
        {
          "output_type": "stream",
          "name": "stdout",
          "text": [
            "Q-Table using UCB: [[1.86696771e-03 1.48643119e-02 8.77712741e-01 1.86699099e-03]\n",
            " [3.96387799e-04 0.00000000e+00 9.40428907e-01 4.12004431e-03]\n",
            " [8.93922227e-01 9.65640383e-01 9.10794262e-01 9.43002345e-01]\n",
            " [9.45907657e-01 0.00000000e+00 9.14468078e-01 9.14468078e-01]\n",
            " [3.96936286e-03 2.77257108e-01 0.00000000e+00 4.04813370e-04]\n",
            " [0.00000000e+00 0.00000000e+00 0.00000000e+00 0.00000000e+00]\n",
            " [0.00000000e+00 9.79341074e-01 0.00000000e+00 9.42122681e-01]\n",
            " [0.00000000e+00 0.00000000e+00 0.00000000e+00 0.00000000e+00]\n",
            " [8.77900948e-01 0.00000000e+00 9.46801072e-01 1.03509709e-01]\n",
            " [8.83571049e-01 9.78034614e-01 9.78662359e-01 0.00000000e+00]\n",
            " [9.63095715e-01 9.89929326e-01 0.00000000e+00 9.65672095e-01]\n",
            " [0.00000000e+00 0.00000000e+00 0.00000000e+00 0.00000000e+00]\n",
            " [0.00000000e+00 0.00000000e+00 0.00000000e+00 0.00000000e+00]\n",
            " [0.00000000e+00 9.78585398e-01 9.89852481e-01 9.62769644e-01]\n",
            " [9.78625643e-01 9.89863260e-01 1.00000000e+00 9.79313060e-01]\n",
            " [0.00000000e+00 0.00000000e+00 0.00000000e+00 0.00000000e+00]]\n"
          ]
        }
      ]
    },
    {
      "cell_type": "code",
      "source": [],
      "metadata": {
        "id": "EJFDbJt8dNnO"
      },
      "execution_count": 6,
      "outputs": []
    },
    {
      "cell_type": "code",
      "source": [],
      "metadata": {
        "id": "PRlTMwFHcmlp"
      },
      "execution_count": 6,
      "outputs": []
    },
    {
      "cell_type": "markdown",
      "source": [
        "### Single-State Multi-Armed Bandit\n"
      ],
      "metadata": {
        "id": "xxCP3wb1dU8o"
      }
    },
    {
      "cell_type": "code",
      "source": [
        "class UCBBandit:\n",
        "    def __init__(self, k, c=2):\n",
        "        self.k = k\n",
        "        self.c = c\n",
        "        self.q_values = np.zeros(k)\n",
        "        self.action_counts = np.zeros(k)\n",
        "        self.total_count = 0\n",
        "\n",
        "    def select_action(self):\n",
        "        self.total_count += 1\n",
        "        # Calculate UCB value for each action\n",
        "        ucb_values = self.q_values + self.c * np.sqrt(np.log(self.total_count) / (self.action_counts + 1e-5))\n",
        "        return np.argmax(ucb_values)\n",
        "\n",
        "    def update_q_value(self, action, reward):\n",
        "        self.action_counts[action] += 1\n",
        "        self.q_values[action] += (1 / self.action_counts[action]) * (reward - self.q_values[action])"
      ],
      "metadata": {
        "id": "32nPCQFcdXUJ"
      },
      "execution_count": 7,
      "outputs": []
    },
    {
      "cell_type": "code",
      "source": [
        "def simulate_bandit(bandit, arms, num_steps):\n",
        "    rewards = np.zeros(num_steps)\n",
        "    for step in range(num_steps):\n",
        "        action = bandit.select_action()\n",
        "        reward = np.random.normal(arms[action], 1.0)  # Assume normal distribution with unit variance\n",
        "        bandit.update_q_value(action, reward)\n",
        "        rewards[step] = reward\n",
        "    return rewards"
      ],
      "metadata": {
        "id": "5QE5OgS6dZvy"
      },
      "execution_count": 8,
      "outputs": []
    },
    {
      "cell_type": "code",
      "source": [
        "# Define the mean rewards for the arms\n",
        "arms = [1.0, 1.5, 2.0, 0.5, 1.2]\n",
        "bandit = UCBBandit(k=len(arms))\n",
        "rewards = simulate_bandit(bandit, arms, num_steps=1000)"
      ],
      "metadata": {
        "id": "5Pz5aXTmdbTB"
      },
      "execution_count": 9,
      "outputs": []
    },
    {
      "cell_type": "code",
      "source": [
        "print(\"Total Reward:\", np.sum(rewards))\n"
      ],
      "metadata": {
        "colab": {
          "base_uri": "https://localhost:8080/"
        },
        "id": "89IyVwBTddPt",
        "outputId": "937d0931-5ce6-4f56-b8bb-0f4d4b6807b4"
      },
      "execution_count": 10,
      "outputs": [
        {
          "output_type": "stream",
          "name": "stdout",
          "text": [
            "Total Reward: 1976.472465072935\n"
          ]
        }
      ]
    },
    {
      "cell_type": "code",
      "source": [
        "print(\"Q-Values using UCB for Bandit:\", bandit.q_values)\n"
      ],
      "metadata": {
        "colab": {
          "base_uri": "https://localhost:8080/"
        },
        "id": "aC31F5AqdeUW",
        "outputId": "6ef88aef-cff2-42ce-894e-0fa7ede22c79"
      },
      "execution_count": 11,
      "outputs": [
        {
          "output_type": "stream",
          "name": "stdout",
          "text": [
            "Q-Values using UCB for Bandit: [ 0.67807924  1.09631757  2.05217432 -0.0393629   1.2295482 ]\n"
          ]
        }
      ]
    },
    {
      "cell_type": "code",
      "source": [],
      "metadata": {
        "id": "OpSidwPpdflN"
      },
      "execution_count": 11,
      "outputs": []
    }
  ]
}